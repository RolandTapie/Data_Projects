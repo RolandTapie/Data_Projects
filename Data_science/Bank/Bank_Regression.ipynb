{
  "nbformat": 4,
  "nbformat_minor": 0,
  "metadata": {
    "colab": {
      "provenance": [],
      "include_colab_link": true
    },
    "kernelspec": {
      "name": "python3",
      "display_name": "Python 3"
    },
    "language_info": {
      "name": "python"
    }
  },
  "cells": [
    {
      "cell_type": "markdown",
      "metadata": {
        "id": "view-in-github",
        "colab_type": "text"
      },
      "source": [
        "<a href=\"https://colab.research.google.com/github/RolandTapie/Data_Projects/blob/main/Data_science/Bank/Bank_Regression.ipynb\" target=\"_parent\"><img src=\"https://colab.research.google.com/assets/colab-badge.svg\" alt=\"Open In Colab\"/></a>"
      ]
    },
    {
      "cell_type": "markdown",
      "source": [
        "**Import des librairies**"
      ],
      "metadata": {
        "id": "MXoa9zNeG5xT"
      }
    },
    {
      "cell_type": "code",
      "execution_count": null,
      "metadata": {
        "id": "PAQU4okqhy33"
      },
      "outputs": [],
      "source": [
        "import pandas as pd\n",
        "import numpy as np\n",
        "import matplotlib.pyplot as plt\n",
        "import networkx as nx\n",
        "import nxviz as nv\n",
        "\n",
        "\n",
        "from scipy.stats import iqr\n",
        "from sklearn.metrics import mean_squared_error, r2_score,roc_curve, auc\n",
        "from sklearn.model_selection import train_test_split\n",
        "from sklearn.linear_model import LinearRegression, LogisticRegression\n",
        "import seaborn as sns\n",
        "import statsmodels.api as sm\n",
        "import numpy as np\n",
        "\n",
        "from google.colab import drive"
      ]
    },
    {
      "cell_type": "markdown",
      "source": [
        "**Montage du drive**"
      ],
      "metadata": {
        "id": "xHbsakb-LQph"
      }
    },
    {
      "cell_type": "code",
      "source": [
        "# Monter Google Drive\n",
        "drive.mount('/content/drive', force_remount=True)\n",
        "\n"
      ],
      "metadata": {
        "colab": {
          "base_uri": "https://localhost:8080/"
        },
        "id": "9JgFUCDnH99L",
        "outputId": "e9b47caa-3836-4bbd-cce0-6d5ee96b9a2d"
      },
      "execution_count": null,
      "outputs": [
        {
          "output_type": "stream",
          "name": "stdout",
          "text": [
            "Mounted at /content/drive\n"
          ]
        }
      ]
    },
    {
      "cell_type": "code",
      "source": [
        "# Chemin vers le fichier dans Google Drive\n",
        "file_path = '/content/drive/My Drive/Colab Notebooks/Bank/bank_cleaned.csv'\n",
        "cible = \"response\"\n",
        "feat=['age', 'job', 'marital', 'education', 'default','balance', 'housing', 'loan', 'day', 'month', 'duration', 'campaign','pdays', 'previous', 'poutcome', 'response_binary']\n",
        "feat=['age', 'balance','duration', 'campaign','pdays','loan']\n",
        "one_hot_enconding=[\"job\",\"marital\",\"education\",\"default\",\"housing\",\"loan\",\"month\",\"poutcome\"]\n",
        "one_hot_enconding=['loan']\n"
      ],
      "metadata": {
        "id": "FHP72WNmlHYX"
      },
      "execution_count": null,
      "outputs": []
    },
    {
      "cell_type": "markdown",
      "source": [
        "**Lecture du dataset**"
      ],
      "metadata": {
        "id": "kY-Xht8dLTig"
      }
    },
    {
      "cell_type": "code",
      "source": [
        "df = pd.read_csv(file_path)\n",
        "df.info()"
      ],
      "metadata": {
        "colab": {
          "base_uri": "https://localhost:8080/"
        },
        "collapsed": true,
        "id": "sEC-ywB2J5hh",
        "outputId": "b7377048-0907-4575-e53f-4e45103ec875"
      },
      "execution_count": null,
      "outputs": [
        {
          "output_type": "stream",
          "name": "stdout",
          "text": [
            "<class 'pandas.core.frame.DataFrame'>\n",
            "RangeIndex: 40841 entries, 0 to 40840\n",
            "Data columns (total 18 columns):\n",
            " #   Column           Non-Null Count  Dtype  \n",
            "---  ------           --------------  -----  \n",
            " 0   Unnamed: 0       40841 non-null  int64  \n",
            " 1   age              40841 non-null  int64  \n",
            " 2   job              40841 non-null  object \n",
            " 3   marital          40841 non-null  object \n",
            " 4   education        40841 non-null  object \n",
            " 5   default          40841 non-null  object \n",
            " 6   balance          40841 non-null  int64  \n",
            " 7   housing          40841 non-null  object \n",
            " 8   loan             40841 non-null  object \n",
            " 9   day              40841 non-null  int64  \n",
            " 10  month            40841 non-null  object \n",
            " 11  duration         40841 non-null  float64\n",
            " 12  campaign         40841 non-null  int64  \n",
            " 13  pdays            40841 non-null  int64  \n",
            " 14  previous         40841 non-null  int64  \n",
            " 15  poutcome         40841 non-null  object \n",
            " 16  response         40841 non-null  object \n",
            " 17  response_binary  40841 non-null  int64  \n",
            "dtypes: float64(1), int64(8), object(9)\n",
            "memory usage: 5.6+ MB\n"
          ]
        }
      ]
    },
    {
      "cell_type": "markdown",
      "source": [
        "**Vérification des enrigistrements nulls**"
      ],
      "metadata": {
        "id": "VYsfWMSfMhkY"
      }
    },
    {
      "cell_type": "code",
      "source": [
        "df = pd.read_csv(file_path)"
      ],
      "metadata": {
        "id": "zOmr6-lJw2nt"
      },
      "execution_count": null,
      "outputs": []
    },
    {
      "cell_type": "code",
      "source": [
        "df.isna().any()\n",
        "df.isnull().any()"
      ],
      "metadata": {
        "colab": {
          "base_uri": "https://localhost:8080/",
          "height": 649
        },
        "id": "Kl5oWxbXwvUl",
        "outputId": "99261716-cf79-4616-b977-84ef3ba73e5c"
      },
      "execution_count": null,
      "outputs": [
        {
          "output_type": "execute_result",
          "data": {
            "text/plain": [
              "Unnamed: 0         False\n",
              "age                False\n",
              "job                False\n",
              "marital            False\n",
              "education          False\n",
              "default            False\n",
              "balance            False\n",
              "housing            False\n",
              "loan               False\n",
              "day                False\n",
              "month              False\n",
              "duration           False\n",
              "campaign           False\n",
              "pdays              False\n",
              "previous           False\n",
              "poutcome           False\n",
              "response           False\n",
              "response_binary    False\n",
              "dtype: bool"
            ],
            "text/html": [
              "<div>\n",
              "<style scoped>\n",
              "    .dataframe tbody tr th:only-of-type {\n",
              "        vertical-align: middle;\n",
              "    }\n",
              "\n",
              "    .dataframe tbody tr th {\n",
              "        vertical-align: top;\n",
              "    }\n",
              "\n",
              "    .dataframe thead th {\n",
              "        text-align: right;\n",
              "    }\n",
              "</style>\n",
              "<table border=\"1\" class=\"dataframe\">\n",
              "  <thead>\n",
              "    <tr style=\"text-align: right;\">\n",
              "      <th></th>\n",
              "      <th>0</th>\n",
              "    </tr>\n",
              "  </thead>\n",
              "  <tbody>\n",
              "    <tr>\n",
              "      <th>Unnamed: 0</th>\n",
              "      <td>False</td>\n",
              "    </tr>\n",
              "    <tr>\n",
              "      <th>age</th>\n",
              "      <td>False</td>\n",
              "    </tr>\n",
              "    <tr>\n",
              "      <th>job</th>\n",
              "      <td>False</td>\n",
              "    </tr>\n",
              "    <tr>\n",
              "      <th>marital</th>\n",
              "      <td>False</td>\n",
              "    </tr>\n",
              "    <tr>\n",
              "      <th>education</th>\n",
              "      <td>False</td>\n",
              "    </tr>\n",
              "    <tr>\n",
              "      <th>default</th>\n",
              "      <td>False</td>\n",
              "    </tr>\n",
              "    <tr>\n",
              "      <th>balance</th>\n",
              "      <td>False</td>\n",
              "    </tr>\n",
              "    <tr>\n",
              "      <th>housing</th>\n",
              "      <td>False</td>\n",
              "    </tr>\n",
              "    <tr>\n",
              "      <th>loan</th>\n",
              "      <td>False</td>\n",
              "    </tr>\n",
              "    <tr>\n",
              "      <th>day</th>\n",
              "      <td>False</td>\n",
              "    </tr>\n",
              "    <tr>\n",
              "      <th>month</th>\n",
              "      <td>False</td>\n",
              "    </tr>\n",
              "    <tr>\n",
              "      <th>duration</th>\n",
              "      <td>False</td>\n",
              "    </tr>\n",
              "    <tr>\n",
              "      <th>campaign</th>\n",
              "      <td>False</td>\n",
              "    </tr>\n",
              "    <tr>\n",
              "      <th>pdays</th>\n",
              "      <td>False</td>\n",
              "    </tr>\n",
              "    <tr>\n",
              "      <th>previous</th>\n",
              "      <td>False</td>\n",
              "    </tr>\n",
              "    <tr>\n",
              "      <th>poutcome</th>\n",
              "      <td>False</td>\n",
              "    </tr>\n",
              "    <tr>\n",
              "      <th>response</th>\n",
              "      <td>False</td>\n",
              "    </tr>\n",
              "    <tr>\n",
              "      <th>response_binary</th>\n",
              "      <td>False</td>\n",
              "    </tr>\n",
              "  </tbody>\n",
              "</table>\n",
              "</div><br><label><b>dtype:</b> bool</label>"
            ]
          },
          "metadata": {},
          "execution_count": 44
        }
      ]
    },
    {
      "cell_type": "code",
      "source": [
        "\n",
        "df=df.drop(\"Unnamed: 0\",axis=1)\n",
        "mapping = {'no': 0, 'yes': 1)\n",
        "colonnes=df.columns.tolist()\n",
        "liste=[]\n",
        "print(colonnes)\n",
        "for col in colonnes:\n",
        "  if df[col].dtype==\"object\":\n",
        "    df[col]=df[col].astype(\"category\")\n",
        "    print(col)\n",
        "    print(df[col].unique())\n",
        "    print('\\n')\n",
        "\n",
        "  if (df[col].dtype==\"int64\") | (df[col].dtype==\"float64\") :\n",
        "    liste.append(col)\n",
        "print (liste)"
      ],
      "metadata": {
        "colab": {
          "base_uri": "https://localhost:8080/"
        },
        "collapsed": true,
        "id": "3AeEG9bbqh0B",
        "outputId": "c27d0f15-0916-47c0-cd6c-022544ea0a89"
      },
      "execution_count": null,
      "outputs": [
        {
          "output_type": "stream",
          "name": "stdout",
          "text": [
            "['age', 'job', 'marital', 'education', 'default', 'balance', 'housing', 'loan', 'day', 'month', 'duration', 'campaign', 'pdays', 'previous', 'poutcome', 'response', 'response_binary']\n",
            "job\n",
            "['management', 'technician', 'entrepreneur', 'retired', 'admin.', ..., 'self-employed', 'unemployed', 'housemaid', 'student', 'other']\n",
            "Length: 12\n",
            "Categories (12, object): ['admin.', 'blue-collar', 'entrepreneur', 'housemaid', ..., 'services',\n",
            "                          'student', 'technician', 'unemployed']\n",
            "\n",
            "\n",
            "marital\n",
            "['married', 'single', 'divorced']\n",
            "Categories (3, object): ['divorced', 'married', 'single']\n",
            "\n",
            "\n",
            "education\n",
            "['tertiary', 'secondary', 'primary']\n",
            "Categories (3, object): ['primary', 'secondary', 'tertiary']\n",
            "\n",
            "\n",
            "default\n",
            "['no', 'yes']\n",
            "Categories (2, object): ['no', 'yes']\n",
            "\n",
            "\n",
            "housing\n",
            "['yes', 'no']\n",
            "Categories (2, object): ['no', 'yes']\n",
            "\n",
            "\n",
            "loan\n",
            "['no', 'yes']\n",
            "Categories (2, object): ['no', 'yes']\n",
            "\n",
            "\n",
            "month\n",
            "['may', 'jun', 'jul', 'aug', 'oct', ..., 'jan', 'feb', 'mar', 'apr', 'sep']\n",
            "Length: 12\n",
            "Categories (12, object): ['apr', 'aug', 'dec', 'feb', ..., 'may', 'nov', 'oct', 'sep']\n",
            "\n",
            "\n",
            "poutcome\n",
            "['unknown', 'failure', 'success']\n",
            "Categories (3, object): ['failure', 'success', 'unknown']\n",
            "\n",
            "\n",
            "response\n",
            "['no', 'yes']\n",
            "Categories (2, object): ['no', 'yes']\n",
            "\n",
            "\n",
            "['age', 'balance', 'day', 'duration', 'campaign', 'pdays', 'previous', 'response_binary']\n"
          ]
        }
      ]
    },
    {
      "cell_type": "markdown",
      "source": [
        "## **Vérifications des distributions**"
      ],
      "metadata": {
        "id": "ATxuvqjbxGL1"
      }
    },
    {
      "cell_type": "code",
      "source": [
        "df[liste].hist()"
      ],
      "metadata": {
        "colab": {
          "base_uri": "https://localhost:8080/",
          "height": 608
        },
        "id": "X1bwDC5CwhU1",
        "outputId": "a98d7af3-3122-459f-998b-310317eb237b"
      },
      "execution_count": null,
      "outputs": [
        {
          "output_type": "execute_result",
          "data": {
            "text/plain": [
              "array([[<Axes: title={'center': 'age'}>,\n",
              "        <Axes: title={'center': 'balance'}>,\n",
              "        <Axes: title={'center': 'day'}>],\n",
              "       [<Axes: title={'center': 'duration'}>,\n",
              "        <Axes: title={'center': 'campaign'}>,\n",
              "        <Axes: title={'center': 'pdays'}>],\n",
              "       [<Axes: title={'center': 'previous'}>,\n",
              "        <Axes: title={'center': 'response_binary'}>, <Axes: >]],\n",
              "      dtype=object)"
            ]
          },
          "metadata": {},
          "execution_count": 45
        },
        {
          "output_type": "display_data",
          "data": {
            "text/plain": [
              "<Figure size 640x480 with 9 Axes>"
            ],
            "image/png": "[encoded data removed]"
          },
          "metadata": {}
        }
      ]
    },
    {
      "cell_type": "markdown",
      "source": [
        "Détection des valeurs abérantes"
      ],
      "metadata": {
        "id": "cFXXka4Mxy1v"
      }
    },
    {
      "cell_type": "code",
      "source": [
        "df_corr=df[liste]\n",
        "df_corr.describe()\n",
        "for col in liste:\n",
        "  print(col)\n",
        "  print(iqr(df_corr[col]))"
      ],
      "metadata": {
        "colab": {
          "base_uri": "https://localhost:8080/"
        },
        "id": "oYFqz2suxyAX",
        "outputId": "8f9f61fd-3b3b-4e8b-c106-4eeb5f39d888"
      },
      "execution_count": null,
      "outputs": [
        {
          "output_type": "stream",
          "name": "stdout",
          "text": [
            "age\n",
            "15.0\n",
            "balance\n",
            "1269.0\n",
            "day\n",
            "13.0\n",
            "duration\n",
            "3.57\n",
            "campaign\n",
            "2.0\n",
            "pdays\n",
            "0.0\n",
            "previous\n",
            "0.0\n",
            "response_binary\n",
            "0.0\n"
          ]
        }
      ]
    },
    {
      "cell_type": "code",
      "source": [
        "for col in liste:\n",
        "  print(col)\n",
        "  plt.figure(figsize=(10,5))\n",
        "  plt.boxplot(df[col])\n",
        "  plt.show()"
      ],
      "metadata": {
        "id": "w8FmKdFjyxCX"
      },
      "execution_count": null,
      "outputs": []
    },
    {
      "cell_type": "markdown",
      "source": [
        "**Vérification des Corrélations**"
      ],
      "metadata": {
        "id": "2EN9frrqwlT1"
      }
    },
    {
      "cell_type": "code",
      "source": [
        "df_corr=df[liste]\n",
        "print(df_corr)\n",
        "correlation=df_corr.corr()\n",
        "print(correlation)\n",
        "sns.heatmap(correlation,annot=True)\n",
        "plt.show()\n",
        "x,y=correlation.shape\n",
        "list_corr=[(liste[k],liste[n],correlation.iloc[k,n]) for k in range(x) for n in range(y) if ((abs(correlation.iloc[k,n])>=0.4)& (k != n))]\n",
        "print(list_corr)"
      ],
      "metadata": {
        "colab": {
          "base_uri": "https://localhost:8080/",
          "height": 1000
        },
        "id": "_D0VtUsesGbC",
        "outputId": "dd3cc1cd-92e4-44a1-fba3-abe4a9b55c5f"
      },
      "execution_count": null,
      "outputs": [
        {
          "output_type": "stream",
          "name": "stdout",
          "text": [
            "       age  balance  day  duration  campaign  pdays  previous  response_binary\n",
            "0       58     2143    5      4.35         1     -1         0                0\n",
            "1       44       29    5      2.52         1     -1         0                0\n",
            "2       33        2    5      1.27         1     -1         0                0\n",
            "3       35      231    5      2.32         1     -1         0                0\n",
            "4       28      447    5      3.62         1     -1         0                0\n",
            "...    ...      ...  ...       ...       ...    ...       ...              ...\n",
            "40836   25      505   17      6.43         2     -1         0                1\n",
            "40837   51      825   17     16.28         3     -1         0                1\n",
            "40838   71     1729   17      7.60         2     -1         0                1\n",
            "40839   72     5715   17     18.78         5    184         3                1\n",
            "40840   57      668   17      8.47         4     -1         0                0\n",
            "\n",
            "[40841 rows x 8 columns]\n",
            "                      age   balance       day  duration  campaign     pdays  \\\n",
            "age              1.000000  0.103405 -0.010549 -0.007422  0.003563 -0.005815   \n",
            "balance          0.103405  1.000000  0.008062  0.035481 -0.026482  0.017674   \n",
            "day             -0.010549  0.008062  1.000000 -0.032656  0.172387 -0.089812   \n",
            "duration        -0.007422  0.035481 -0.032656  1.000000 -0.081852 -0.000242   \n",
            "campaign         0.003563 -0.026482  0.172387 -0.081852  1.000000 -0.094891   \n",
            "pdays           -0.005815  0.017674 -0.089812 -0.000242 -0.094891  1.000000   \n",
            "previous         0.012862  0.036765 -0.056279  0.004824 -0.051522  0.567728   \n",
            "response_binary  0.023204  0.069456 -0.035323  0.400681 -0.072495  0.108554   \n",
            "\n",
            "                 previous  response_binary  \n",
            "age              0.012862         0.023204  \n",
            "balance          0.036765         0.069456  \n",
            "day             -0.056279        -0.035323  \n",
            "duration         0.004824         0.400681  \n",
            "campaign        -0.051522        -0.072495  \n",
            "pdays            0.567728         0.108554  \n",
            "previous         1.000000         0.128274  \n",
            "response_binary  0.128274         1.000000  \n"
          ]
        },
        {
          "output_type": "display_data",
          "data": {
            "text/plain": [
              "<Figure size 640x480 with 2 Axes>"
            ],
            "image/png": "[encoded data removed]"
          },
          "metadata": {}
        },
        {
          "output_type": "stream",
          "name": "stdout",
          "text": [
            "[('duration', 'response_binary', 0.40068142620731273), ('pdays', 'previous', 0.5677279001400981), ('previous', 'pdays', 0.5677279001400981), ('response_binary', 'duration', 0.40068142620731273)]\n"
          ]
        }
      ]
    },
    {
      "cell_type": "markdown",
      "source": [
        "**Lecture du dataset**"
      ],
      "metadata": {
        "id": "2BVb4ZhpHX5g"
      }
    },
    {
      "cell_type": "code",
      "source": [
        "features=df.drop(\"response\", axis=1)\n",
        "features = df[liste].values\n",
        "targets=df[\"response_binary\"].values\n",
        "X_train, X_test, y_train, y_test = train_test_split(features, targets, test_size=0.2, random_state=42)\n",
        "print(X_train.shape)\n",
        "print(X_test.shape)\n",
        "print(y_train.shape)\n",
        "print(y_test.shape)"
      ],
      "metadata": {
        "colab": {
          "base_uri": "https://localhost:8080/"
        },
        "id": "Qgv4qawA5Gao",
        "outputId": "dd517bbc-caac-4c85-8788-1f9a27bdfc63"
      },
      "execution_count": null,
      "outputs": [
        {
          "output_type": "stream",
          "name": "stdout",
          "text": [
            "(32672, 8)\n",
            "(8169, 8)\n",
            "(32672,)\n",
            "(8169,)\n"
          ]
        }
      ]
    },
    {
      "cell_type": "code",
      "source": [
        "logreg=LogisticRegression(solver='lbfgs', max_iter=100)\n",
        "logreg.fit(X_train,y_train)\n",
        "y_pred=logreg.predict(X_test)\n",
        "y_pred_proba=logreg.predict_proba(X_test)[:,1]\n",
        "print(y_pred)\n",
        "print(y_pred_proba)\n",
        "fpr, tpr, thresholds = roc_curve(y_test, y_pred_proba)\n",
        "plt.plot(fpr, tpr)\n",
        "plt.plot(np.arange(0,1.1,0.1), np.arange(0,1.1,0.1))\n",
        "plt.xlabel('False Positive Rate')\n",
        "plt.ylabel('True Positive Rate')\n",
        "plt.title('ROC Curve')\n",
        "plt.show()\n",
        "roc_auc = auc(fpr, tpr)\n",
        "print(roc_auc)"
      ],
      "metadata": {
        "colab": {
          "base_uri": "https://localhost:8080/",
          "height": 680
        },
        "id": "s9g7MXUj5cxo",
        "outputId": "1fce6295-60be-4399-b259-4ae14466818f"
      },
      "execution_count": null,
      "outputs": [
        {
          "output_type": "stream",
          "name": "stderr",
          "text": [
            "/usr/local/lib/python3.10/dist-packages/sklearn/linear_model/_logistic.py:469: ConvergenceWarning: lbfgs failed to converge (status=1):\n",
            "STOP: TOTAL NO. of ITERATIONS REACHED LIMIT.\n",
            "\n",
            "Increase the number of iterations (max_iter) or scale the data as shown in:\n",
            "    https://scikit-learn.org/stable/modules/preprocessing.html\n",
            "Please also refer to the documentation for alternative solver options:\n",
            "    https://scikit-learn.org/stable/modules/linear_model.html#logistic-regression\n",
            "  n_iter_i = _check_optimize_result(\n"
          ]
        },
        {
          "output_type": "stream",
          "name": "stdout",
          "text": [
            "[0 0 0 ... 0 0 0]\n",
            "[1.32245704e-01 1.15754586e-01 5.39217395e-02 ... 1.28778621e-05\n",
            " 7.62386508e-02 1.02248338e-03]\n"
          ]
        },
        {
          "output_type": "display_data",
          "data": {
            "text/plain": [
              "<Figure size 640x480 with 1 Axes>"
            ],
            "image/png": "[encoded data removed]"
          },
          "metadata": {}
        },
        {
          "output_type": "stream",
          "name": "stdout",
          "text": [
            "0.8960392058543876\n"
          ]
        }
      ]
    },
    {
      "cell_type": "code",
      "source": [],
      "metadata": {
        "id": "vft29W1I5cuo"
      },
      "execution_count": null,
      "outputs": []
    },
    {
      "cell_type": "code",
      "source": [],
      "metadata": {
        "id": "FwnHbt1J5cr0"
      },
      "execution_count": null,
      "outputs": []
    },
    {
      "cell_type": "code",
      "source": [],
      "metadata": {
        "id": "5yiH_hKw5coP"
      },
      "execution_count": null,
      "outputs": []
    },
    {
      "cell_type": "code",
      "source": [],
      "metadata": {
        "id": "UiUTG9GY5cgg"
      },
      "execution_count": null,
      "outputs": []
    },
    {
      "cell_type": "code",
      "source": [],
      "metadata": {
        "id": "1Tw4kHZF5cXg"
      },
      "execution_count": null,
      "outputs": []
    },
    {
      "cell_type": "code",
      "source": [
        "features = df[feat]\n",
        "features=pd.get_dummies(features,columns=one_hot_enconding,dtype=float, drop_first=True)\n",
        "targets = df[cible]\n",
        "targets=pd.get_dummies(targets,\"response\", drop_first=True,dtype=float)\n",
        "features_train = features_train.select_dtypes(exclude=['object'])"
      ],
      "metadata": {
        "id": "LwczFxLZk7GN"
      },
      "execution_count": null,
      "outputs": []
    },
    {
      "cell_type": "code",
      "source": [
        "features.info()\n",
        "targets.info()"
      ],
      "metadata": {
        "colab": {
          "base_uri": "https://localhost:8080/"
        },
        "id": "Akx00HWK1qNT",
        "outputId": "bf583cb9-4eb5-40da-9018-4dc9f294ea3f"
      },
      "execution_count": null,
      "outputs": [
        {
          "output_type": "stream",
          "name": "stdout",
          "text": [
            "<class 'pandas.core.frame.DataFrame'>\n",
            "RangeIndex: 40841 entries, 0 to 40840\n",
            "Data columns (total 6 columns):\n",
            " #   Column    Non-Null Count  Dtype  \n",
            "---  ------    --------------  -----  \n",
            " 0   age       40841 non-null  int64  \n",
            " 1   balance   40841 non-null  int64  \n",
            " 2   duration  40841 non-null  float64\n",
            " 3   campaign  40841 non-null  int64  \n",
            " 4   pdays     40841 non-null  int64  \n",
            " 5   loan_yes  40841 non-null  float64\n",
            "dtypes: float64(2), int64(4)\n",
            "memory usage: 1.9 MB\n",
            "<class 'pandas.core.frame.DataFrame'>\n",
            "RangeIndex: 40841 entries, 0 to 40840\n",
            "Data columns (total 1 columns):\n",
            " #   Column        Non-Null Count  Dtype  \n",
            "---  ------        --------------  -----  \n",
            " 0   response_yes  40841 non-null  float64\n",
            "dtypes: float64(1)\n",
            "memory usage: 319.2 KB\n"
          ]
        }
      ]
    },
    {
      "cell_type": "code",
      "source": [
        "features = sm.add_constant(features)"
      ],
      "metadata": {
        "id": "x8AJNSBdtB1E"
      },
      "execution_count": null,
      "outputs": []
    },
    {
      "cell_type": "code",
      "source": [
        "features_train, features_test, targets_train, targets_test = train_test_split(features, targets,test_size=0.2, random_state=42)"
      ],
      "metadata": {
        "id": "Fd-RKMIitMN9"
      },
      "execution_count": null,
      "outputs": []
    },
    {
      "cell_type": "code",
      "source": [
        "features_train.info()\n",
        "targets_train.info()"
      ],
      "metadata": {
        "colab": {
          "base_uri": "https://localhost:8080/"
        },
        "id": "4INOleNgl4i1",
        "outputId": "a9377019-e973-468f-a618-90bf8e728048"
      },
      "execution_count": null,
      "outputs": [
        {
          "output_type": "stream",
          "name": "stdout",
          "text": [
            "<class 'pandas.core.frame.DataFrame'>\n",
            "Index: 32672 entries, 21394 to 15795\n",
            "Data columns (total 7 columns):\n",
            " #   Column    Non-Null Count  Dtype  \n",
            "---  ------    --------------  -----  \n",
            " 0   const     32672 non-null  float64\n",
            " 1   age       32672 non-null  int64  \n",
            " 2   balance   32672 non-null  int64  \n",
            " 3   duration  32672 non-null  float64\n",
            " 4   campaign  32672 non-null  int64  \n",
            " 5   pdays     32672 non-null  int64  \n",
            " 6   loan_yes  32672 non-null  float64\n",
            "dtypes: float64(3), int64(4)\n",
            "memory usage: 2.0 MB\n",
            "<class 'pandas.core.frame.DataFrame'>\n",
            "Index: 32672 entries, 21394 to 15795\n",
            "Data columns (total 1 columns):\n",
            " #   Column        Non-Null Count  Dtype  \n",
            "---  ------        --------------  -----  \n",
            " 0   response_yes  32672 non-null  float64\n",
            "dtypes: float64(1)\n",
            "memory usage: 510.5 KB\n"
          ]
        }
      ]
    },
    {
      "cell_type": "code",
      "source": [
        "logit_model = sm.Logit(targets_train, features_train)"
      ],
      "metadata": {
        "id": "QOq8hQZEtjIX"
      },
      "execution_count": null,
      "outputs": []
    },
    {
      "cell_type": "code",
      "source": [
        "result = logit_model.fit()"
      ],
      "metadata": {
        "colab": {
          "base_uri": "https://localhost:8080/"
        },
        "id": "wErEAyQDts6S",
        "outputId": "7f740d7b-04c5-4c2d-b7ba-5a7e3c9b65f4"
      },
      "execution_count": null,
      "outputs": [
        {
          "output_type": "stream",
          "name": "stdout",
          "text": [
            "Optimization terminated successfully.\n",
            "         Current function value: 0.280892\n",
            "         Iterations 7\n"
          ]
        }
      ]
    },
    {
      "cell_type": "code",
      "source": [
        "print(result.summary())"
      ],
      "metadata": {
        "colab": {
          "base_uri": "https://localhost:8080/"
        },
        "id": "dVRmsJJht0qL",
        "outputId": "e1ea1d79-6540-49ea-f5be-4750923fd120"
      },
      "execution_count": null,
      "outputs": [
        {
          "output_type": "stream",
          "name": "stdout",
          "text": [
            "                           Logit Regression Results                           \n",
            "==============================================================================\n",
            "Dep. Variable:           response_yes   No. Observations:                32672\n",
            "Model:                          Logit   Df Residuals:                    32665\n",
            "Method:                           MLE   Df Model:                            6\n",
            "Date:                Sat, 24 Aug 2024   Pseudo R-squ.:                  0.1956\n",
            "Time:                        15:03:20   Log-Likelihood:                -9177.3\n",
            "converged:                       True   LL-Null:                       -11409.\n",
            "Covariance Type:            nonrobust   LLR p-value:                     0.000\n",
            "==============================================================================\n",
            "                 coef    std err          z      P>|z|      [0.025      0.975]\n",
            "------------------------------------------------------------------------------\n",
            "const         -3.4275      0.085    -40.090      0.000      -3.595      -3.260\n",
            "age            0.0064      0.002      3.564      0.000       0.003       0.010\n",
            "balance     8.946e-05   1.01e-05      8.829      0.000    6.96e-05       0.000\n",
            "duration       0.2194      0.004     54.270      0.000       0.211       0.227\n",
            "campaign      -0.1280      0.011    -11.185      0.000      -0.150      -0.106\n",
            "pdays          0.0033      0.000     19.350      0.000       0.003       0.004\n",
            "loan_yes      -0.7106      0.065    -10.930      0.000      -0.838      -0.583\n",
            "==============================================================================\n"
          ]
        }
      ]
    },
    {
      "cell_type": "markdown",
      "source": [
        "# Nouvelle section"
      ],
      "metadata": {
        "id": "ddTF61NqA3J7"
      }
    },
    {
      "cell_type": "markdown",
      "source": [
        "# Nouvelle section"
      ],
      "metadata": {
        "id": "KEOWlJhPA3ty"
      }
    }
  ]
}